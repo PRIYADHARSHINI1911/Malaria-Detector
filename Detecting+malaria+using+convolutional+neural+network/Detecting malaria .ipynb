{
 "cells": [
  {
   "cell_type": "code",
   "execution_count": 1,
   "metadata": {},
   "outputs": [
    {
     "name": "stderr",
     "output_type": "stream",
     "text": [
      "Using TensorFlow backend.\n"
     ]
    }
   ],
   "source": [
    "import numpy as np\n",
    "from keras.models import Sequential\n",
    "from keras.layers import Convolution2D\n",
    "from keras.layers import MaxPooling2D\n",
    "from keras.layers import Flatten\n",
    "from keras.layers import Dense\n",
    "from keras.preprocessing import image\n",
    "import warnings\n",
    "warnings.filterwarnings('ignore')"
   ]
  },
  {
   "cell_type": "code",
   "execution_count": 2,
   "metadata": {},
   "outputs": [],
   "source": [
    "classifier = Sequential()"
   ]
  },
  {
   "cell_type": "code",
   "execution_count": 3,
   "metadata": {},
   "outputs": [],
   "source": [
    "\n",
    "classifier.add(Convolution2D(32, 3, 3, input_shape= (64, 64, 3), activation = 'relu'))\n",
    "classifier.add(MaxPooling2D(pool_size = (2,2)))\n",
    "\n",
    "\n",
    "classifier.add(Convolution2D(32, 3, 3, activation = 'relu'))\n",
    "classifier.add(MaxPooling2D(pool_size = (2,2)))\n",
    "\n",
    "\n",
    "classifier.add(Flatten())\n",
    "\n",
    "\n",
    "classifier.add(Dense(output_dim = 128, activation = 'relu'))\n",
    "classifier.add(Dense(output_dim = 1, activation = 'sigmoid'))\n"
   ]
  },
  {
   "cell_type": "code",
   "execution_count": 4,
   "metadata": {},
   "outputs": [],
   "source": [
    "classifier.compile(optimizer = 'adam', loss = 'binary_crossentropy', metrics = ['accuracy'])"
   ]
  },
  {
   "cell_type": "code",
   "execution_count": 5,
   "metadata": {},
   "outputs": [],
   "source": [
    "from keras.preprocessing.image import ImageDataGenerator\n",
    "\n",
    "train_datagen = ImageDataGenerator(rescale = 1./255,\n",
    "                                  shear_range = 0.2,\n",
    "                                  zoom_range = 0.2,\n",
    "                                  horizontal_flip = True)\n",
    "\n",
    "test_datagen = ImageDataGenerator(rescale = 1./255)"
   ]
  },
  {
   "cell_type": "code",
   "execution_count": 6,
   "metadata": {},
   "outputs": [
    {
     "name": "stdout",
     "output_type": "stream",
     "text": [
      "Found 22046 images belonging to 2 classes.\n"
     ]
    }
   ],
   "source": [
    "training_set = train_datagen.flow_from_directory('cell_images/train',\n",
    "                                                target_size = (64, 64),\n",
    "                                                batch_size = 32,\n",
    "                                                class_mode = 'binary')"
   ]
  },
  {
   "cell_type": "code",
   "execution_count": 7,
   "metadata": {},
   "outputs": [
    {
     "name": "stdout",
     "output_type": "stream",
     "text": [
      "Found 5512 images belonging to 2 classes.\n"
     ]
    }
   ],
   "source": [
    "test_set = test_datagen.flow_from_directory('cell_images/valid',\n",
    "                                                target_size = (64, 64),\n",
    "                                                batch_size = 32,\n",
    "                                                class_mode = 'binary')"
   ]
  },
  {
   "cell_type": "code",
   "execution_count": 8,
   "metadata": {},
   "outputs": [
    {
     "name": "stdout",
     "output_type": "stream",
     "text": [
      "Epoch 1/25\n",
      "250/250 [==============================] - 170s 679ms/step - loss: 0.6926 - accuracy: 0.5399 - val_loss: 0.7364 - val_accuracy: 0.5307\n",
      "Epoch 2/25\n",
      "250/250 [==============================] - 166s 665ms/step - loss: 0.6738 - accuracy: 0.5819 - val_loss: 0.6727 - val_accuracy: 0.5021\n",
      "Epoch 3/25\n",
      "250/250 [==============================] - 162s 646ms/step - loss: 0.6530 - accuracy: 0.6144 - val_loss: 0.7340 - val_accuracy: 0.6035\n",
      "Epoch 4/25\n",
      "250/250 [==============================] - 126s 504ms/step - loss: 0.5977 - accuracy: 0.6811 - val_loss: 0.4998 - val_accuracy: 0.7634\n",
      "Epoch 5/25\n",
      "250/250 [==============================] - 120s 481ms/step - loss: 0.5767 - accuracy: 0.6967 - val_loss: 0.6153 - val_accuracy: 0.6485\n",
      "Epoch 6/25\n",
      "250/250 [==============================] - 124s 496ms/step - loss: 0.5389 - accuracy: 0.7294 - val_loss: 0.3711 - val_accuracy: 0.8016\n",
      "Epoch 7/25\n",
      "250/250 [==============================] - 121s 483ms/step - loss: 0.4273 - accuracy: 0.8056 - val_loss: 0.2789 - val_accuracy: 0.8501\n",
      "Epoch 8/25\n",
      "250/250 [==============================] - 138s 552ms/step - loss: 0.3421 - accuracy: 0.8515 - val_loss: 0.2214 - val_accuracy: 0.9124\n",
      "Epoch 9/25\n",
      "250/250 [==============================] - 147s 586ms/step - loss: 0.2761 - accuracy: 0.8920 - val_loss: 0.1574 - val_accuracy: 0.9281\n",
      "Epoch 10/25\n",
      "250/250 [==============================] - 138s 554ms/step - loss: 0.2210 - accuracy: 0.9176 - val_loss: 0.2441 - val_accuracy: 0.9400\n",
      "Epoch 11/25\n",
      "250/250 [==============================] - 137s 549ms/step - loss: 0.2165 - accuracy: 0.9196 - val_loss: 0.2885 - val_accuracy: 0.9414\n",
      "Epoch 12/25\n",
      "250/250 [==============================] - 139s 556ms/step - loss: 0.1931 - accuracy: 0.9300 - val_loss: 0.1830 - val_accuracy: 0.9423\n",
      "Epoch 13/25\n",
      "250/250 [==============================] - 142s 570ms/step - loss: 0.1987 - accuracy: 0.9270 - val_loss: 0.0803 - val_accuracy: 0.9463\n",
      "Epoch 14/25\n",
      "250/250 [==============================] - 141s 566ms/step - loss: 0.2040 - accuracy: 0.9277 - val_loss: 0.2085 - val_accuracy: 0.9400\n",
      "Epoch 15/25\n",
      "250/250 [==============================] - 138s 551ms/step - loss: 0.1899 - accuracy: 0.9340 - val_loss: 0.1195 - val_accuracy: 0.9499\n",
      "Epoch 16/25\n",
      "250/250 [==============================] - 141s 564ms/step - loss: 0.1879 - accuracy: 0.9330 - val_loss: 0.1580 - val_accuracy: 0.9481\n",
      "Epoch 17/25\n",
      "250/250 [==============================] - 143s 574ms/step - loss: 0.1719 - accuracy: 0.9367 - val_loss: 0.0390 - val_accuracy: 0.9469\n",
      "Epoch 18/25\n",
      "250/250 [==============================] - 138s 552ms/step - loss: 0.1890 - accuracy: 0.9325 - val_loss: 0.1267 - val_accuracy: 0.9472\n",
      "Epoch 19/25\n",
      "250/250 [==============================] - 144s 578ms/step - loss: 0.1834 - accuracy: 0.9335 - val_loss: 0.1417 - val_accuracy: 0.9468\n",
      "Epoch 20/25\n",
      "250/250 [==============================] - 139s 555ms/step - loss: 0.1868 - accuracy: 0.9314 - val_loss: 0.1845 - val_accuracy: 0.9535\n",
      "Epoch 21/25\n",
      "250/250 [==============================] - 138s 550ms/step - loss: 0.1684 - accuracy: 0.9404 - val_loss: 0.2494 - val_accuracy: 0.9496\n",
      "Epoch 22/25\n",
      "250/250 [==============================] - 136s 543ms/step - loss: 0.1796 - accuracy: 0.9372 - val_loss: 0.3270 - val_accuracy: 0.9507\n",
      "Epoch 23/25\n",
      "250/250 [==============================] - 331s 1s/step - loss: 0.1672 - accuracy: 0.9383 - val_loss: 0.1910 - val_accuracy: 0.9489\n",
      "Epoch 24/25\n",
      "250/250 [==============================] - 457s 2s/step - loss: 0.1785 - accuracy: 0.9365 - val_loss: 0.0523 - val_accuracy: 0.9476\n",
      "Epoch 25/25\n",
      "250/250 [==============================] - 193s 773ms/step - loss: 0.1652 - accuracy: 0.9407 - val_loss: 0.1617 - val_accuracy: 0.9529\n"
     ]
    },
    {
     "data": {
      "text/plain": [
       "<keras.callbacks.callbacks.History at 0x2c7236ff0b8>"
      ]
     },
     "execution_count": 8,
     "metadata": {},
     "output_type": "execute_result"
    }
   ],
   "source": [
    "classifier.fit_generator(training_set,\n",
    "                        samples_per_epoch = 8000,\n",
    "                        nb_epoch = 25,\n",
    "                        validation_data = test_set,\n",
    "                        nb_val_samples = 2000)"
   ]
  },
  {
   "cell_type": "code",
   "execution_count": 11,
   "metadata": {},
   "outputs": [
    {
     "name": "stdout",
     "output_type": "stream",
     "text": [
      "Not infected\n"
     ]
    },
    {
     "data": {
      "text/plain": [
       "<matplotlib.image.AxesImage at 0x2c72450b358>"
      ]
     },
     "execution_count": 11,
     "metadata": {},
     "output_type": "execute_result"
    },
    {
     "data": {
      "image/png": "[encoded data removed]",
      "text/plain": [
       "<Figure size 432x288 with 1 Axes>"
      ]
     },
     "metadata": {
      "needs_background": "light"
     },
     "output_type": "display_data"
    }
   ],
   "source": [
    "test_image1= image.load_img('cell_images/random1.png', target_size = (64,64))\n",
    "test_image = image.img_to_array(test_image1)\n",
    "test_image = np.expand_dims(test_image, axis=0)\n",
    "result = classifier.predict(test_image)\n",
    "training_set.class_indices\n",
    "\n",
    "if result[0][0]>= 0.5:\n",
    "    prediction= 'Not infected'\n",
    "else:\n",
    "    prediction = 'Infected **'\n",
    "\n",
    "print(prediction)\n",
    "plt.imshow(test_image1)"
   ]
  },
  {
   "cell_type": "code",
   "execution_count": 10,
   "metadata": {},
   "outputs": [],
   "source": [
    "import matplotlib.pyplot as plt"
   ]
  },
  {
   "cell_type": "code",
   "execution_count": 12,
   "metadata": {},
   "outputs": [
    {
     "name": "stdout",
     "output_type": "stream",
     "text": [
      "Infected **\n"
     ]
    },
    {
     "data": {
      "text/plain": [
       "<matplotlib.image.AxesImage at 0x2c7245aa7b8>"
      ]
     },
     "execution_count": 12,
     "metadata": {},
     "output_type": "execute_result"
    },
    {
     "data": {
      "image/png": "[encoded data removed]",
      "text/plain": [
       "<Figure size 432x288 with 1 Axes>"
      ]
     },
     "metadata": {
      "needs_background": "light"
     },
     "output_type": "display_data"
    }
   ],
   "source": [
    "#test a new single image\n",
    "test_image1= image.load_img('cell_images/random2.png', target_size = (64,64))\n",
    "test_image = image.img_to_array(test_image1)\n",
    "test_image = np.expand_dims(test_image, axis=0)\n",
    "result = classifier.predict(test_image)\n",
    "training_set.class_indices\n",
    "\n",
    "if result[0][0]>= 0.5:\n",
    "    prediction= 'Not infected'\n",
    "else:\n",
    "    prediction = 'Infected **'\n",
    "\n",
    "print(prediction)\n",
    "plt.imshow(test_image1)"
   ]
  },
  {
   "cell_type": "code",
   "execution_count": null,
   "metadata": {},
   "outputs": [],
   "source": []
  }
 ],
 "metadata": {
  "kernelspec": {
   "display_name": "Python 3",
   "language": "python",
   "name": "python3"
  },
  "language_info": {
   "codemirror_mode": {
    "name": "ipython",
    "version": 3
   },
   "file_extension": ".py",
   "mimetype": "text/x-python",
   "name": "python",
   "nbconvert_exporter": "python",
   "pygments_lexer": "ipython3",
   "version": "3.8.8"
  }
 },
 "nbformat": 4,
 "nbformat_minor": 2
}
